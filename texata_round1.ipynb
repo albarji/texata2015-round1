{
 "cells": [
  {
   "cell_type": "markdown",
   "metadata": {},
   "source": [
    "# Texata Round 1"
   ]
  },
  {
   "cell_type": "markdown",
   "metadata": {},
   "source": [
    "## Introduction"
   ]
  },
  {
   "cell_type": "markdown",
   "metadata": {},
   "source": [
    "This is a notebook I created for practicing for the final round of Texata 2015. I decided that the best way to try all the new visualization and data processing libraries out there would be to re-do the Round 1 exercises in the best way I could imagine. The result is this, which I think showcases some interesing Python libraries. Enjoy!"
   ]
  },
  {
   "cell_type": "code",
   "execution_count": 1,
   "metadata": {
    "collapsed": false,
    "scrolled": false
   },
   "outputs": [],
   "source": [
    "# Load all dependencies\n",
    "%matplotlib inline\n",
    "import pandas\n",
    "from scipy.stats.stats import pearsonr\n",
    "import numpy as np\n",
    "import time\n",
    "from scipy import stats\n",
    "import math\n",
    "import matplotlib.pylab as plt\n",
    "import folium\n",
    "import seaborn as sns\n",
    "# This is just to make images bigger\n",
    "sns.set_context(\"poster\")"
   ]
  },
  {
   "cell_type": "markdown",
   "metadata": {},
   "source": [
    "## Load data\n",
    "\n",
    "The data for this round was provided as  CSV file with the following columns:\n",
    "* Restaurant Name\n",
    "* Zip Code\n",
    "* Inspection Date\n",
    "* Score\n",
    "* Address\n",
    "* Facility ID\n",
    "* Process Description\n",
    "\n",
    "We can read it easily using Pandas:"
   ]
  },
  {
   "cell_type": "code",
   "execution_count": 2,
   "metadata": {
    "collapsed": true
   },
   "outputs": [],
   "source": [
    "data = pandas.read_csv(\"Restaurant_Inspection_Scores.csv\")"
   ]
  },
  {
   "cell_type": "markdown",
   "metadata": {},
   "source": [
    "Let's take a look at the first 10 lines of data:"
   ]
  },
  {
   "cell_type": "code",
   "execution_count": 3,
   "metadata": {
    "collapsed": false
   },
   "outputs": [
    {
     "data": {
      "text/html": [
       "<div>\n",
       "<table border=\"1\" class=\"dataframe\">\n",
       "  <thead>\n",
       "    <tr style=\"text-align: right;\">\n",
       "      <th></th>\n",
       "      <th>Restaurant Name</th>\n",
       "      <th>Zip Code</th>\n",
       "      <th>Inspection Date</th>\n",
       "      <th>Score</th>\n",
       "      <th>Address</th>\n",
       "      <th>Facility ID</th>\n",
       "      <th>Process Description</th>\n",
       "    </tr>\n",
       "  </thead>\n",
       "  <tbody>\n",
       "    <tr>\n",
       "      <th>0</th>\n",
       "      <td>15th Street Cafe</td>\n",
       "      <td>78701</td>\n",
       "      <td>05/22/2013</td>\n",
       "      <td>91</td>\n",
       "      <td>303 W 15TH ST\\nAUSTIN, TX 78701\\n(30.277693, -...</td>\n",
       "      <td>2801033</td>\n",
       "      <td>Routine Inspection</td>\n",
       "    </tr>\n",
       "    <tr>\n",
       "      <th>1</th>\n",
       "      <td>15th Street Cafe</td>\n",
       "      <td>78701</td>\n",
       "      <td>05/13/2015</td>\n",
       "      <td>97</td>\n",
       "      <td>303 W 15TH ST\\nAUSTIN, TX 78701\\n(30.277693, -...</td>\n",
       "      <td>2801033</td>\n",
       "      <td>Routine Inspection</td>\n",
       "    </tr>\n",
       "    <tr>\n",
       "      <th>2</th>\n",
       "      <td>15th Street Cafe</td>\n",
       "      <td>78701</td>\n",
       "      <td>06/18/2014</td>\n",
       "      <td>97</td>\n",
       "      <td>303 W 15TH ST\\nAUSTIN, TX 78701\\n(30.277693, -...</td>\n",
       "      <td>2801033</td>\n",
       "      <td>Routine Inspection</td>\n",
       "    </tr>\n",
       "    <tr>\n",
       "      <th>3</th>\n",
       "      <td>15th Street Cafe</td>\n",
       "      <td>78701</td>\n",
       "      <td>09/13/2012</td>\n",
       "      <td>93</td>\n",
       "      <td>303 W 15TH ST\\nAUSTIN, TX 78701\\n(30.277693, -...</td>\n",
       "      <td>2801033</td>\n",
       "      <td>Routine Inspection</td>\n",
       "    </tr>\n",
       "    <tr>\n",
       "      <th>4</th>\n",
       "      <td>15th Street Cafe</td>\n",
       "      <td>78701</td>\n",
       "      <td>12/05/2013</td>\n",
       "      <td>97</td>\n",
       "      <td>303 W 15TH ST\\nAUSTIN, TX 78701\\n(30.277693, -...</td>\n",
       "      <td>2801033</td>\n",
       "      <td>Routine Inspection</td>\n",
       "    </tr>\n",
       "  </tbody>\n",
       "</table>\n",
       "</div>"
      ],
      "text/plain": [
       "    Restaurant Name  Zip Code Inspection Date  Score  \\\n",
       "0  15th Street Cafe     78701      05/22/2013     91   \n",
       "1  15th Street Cafe     78701      05/13/2015     97   \n",
       "2  15th Street Cafe     78701      06/18/2014     97   \n",
       "3  15th Street Cafe     78701      09/13/2012     93   \n",
       "4  15th Street Cafe     78701      12/05/2013     97   \n",
       "\n",
       "                                             Address  Facility ID  \\\n",
       "0  303 W 15TH ST\\nAUSTIN, TX 78701\\n(30.277693, -...      2801033   \n",
       "1  303 W 15TH ST\\nAUSTIN, TX 78701\\n(30.277693, -...      2801033   \n",
       "2  303 W 15TH ST\\nAUSTIN, TX 78701\\n(30.277693, -...      2801033   \n",
       "3  303 W 15TH ST\\nAUSTIN, TX 78701\\n(30.277693, -...      2801033   \n",
       "4  303 W 15TH ST\\nAUSTIN, TX 78701\\n(30.277693, -...      2801033   \n",
       "\n",
       "  Process Description  \n",
       "0  Routine Inspection  \n",
       "1  Routine Inspection  \n",
       "2  Routine Inspection  \n",
       "3  Routine Inspection  \n",
       "4  Routine Inspection  "
      ]
     },
     "execution_count": 3,
     "metadata": {},
     "output_type": "execute_result"
    }
   ],
   "source": [
    "data.head()"
   ]
  },
  {
   "cell_type": "markdown",
   "metadata": {},
   "source": [
    "Now we can take a look at a summary of the numeric variables in the data by using the *describe* function:"
   ]
  },
  {
   "cell_type": "code",
   "execution_count": 4,
   "metadata": {
    "collapsed": false
   },
   "outputs": [
    {
     "data": {
      "text/html": [
       "<div>\n",
       "<table border=\"1\" class=\"dataframe\">\n",
       "  <thead>\n",
       "    <tr style=\"text-align: right;\">\n",
       "      <th></th>\n",
       "      <th>Zip Code</th>\n",
       "      <th>Score</th>\n",
       "      <th>Facility ID</th>\n",
       "    </tr>\n",
       "  </thead>\n",
       "  <tbody>\n",
       "    <tr>\n",
       "      <th>count</th>\n",
       "      <td>21958.000000</td>\n",
       "      <td>21958.000000</td>\n",
       "      <td>21958.00000</td>\n",
       "    </tr>\n",
       "    <tr>\n",
       "      <th>mean</th>\n",
       "      <td>78728.460834</td>\n",
       "      <td>91.541944</td>\n",
       "      <td>6991787.20143</td>\n",
       "    </tr>\n",
       "    <tr>\n",
       "      <th>std</th>\n",
       "      <td>29.260032</td>\n",
       "      <td>7.705494</td>\n",
       "      <td>3844583.15620</td>\n",
       "    </tr>\n",
       "    <tr>\n",
       "      <th>min</th>\n",
       "      <td>78610.000000</td>\n",
       "      <td>42.000000</td>\n",
       "      <td>2800004.00000</td>\n",
       "    </tr>\n",
       "    <tr>\n",
       "      <th>25%</th>\n",
       "      <td>78704.000000</td>\n",
       "      <td>87.000000</td>\n",
       "      <td>2801830.00000</td>\n",
       "    </tr>\n",
       "    <tr>\n",
       "      <th>50%</th>\n",
       "      <td>78738.000000</td>\n",
       "      <td>93.000000</td>\n",
       "      <td>10014353.00000</td>\n",
       "    </tr>\n",
       "    <tr>\n",
       "      <th>75%</th>\n",
       "      <td>78750.000000</td>\n",
       "      <td>97.000000</td>\n",
       "      <td>10530244.00000</td>\n",
       "    </tr>\n",
       "    <tr>\n",
       "      <th>max</th>\n",
       "      <td>78759.000000</td>\n",
       "      <td>100.000000</td>\n",
       "      <td>11292287.00000</td>\n",
       "    </tr>\n",
       "  </tbody>\n",
       "</table>\n",
       "</div>"
      ],
      "text/plain": [
       "           Zip Code         Score     Facility ID\n",
       "count  21958.000000  21958.000000     21958.00000\n",
       "mean   78728.460834     91.541944   6991787.20143\n",
       "std       29.260032      7.705494   3844583.15620\n",
       "min    78610.000000     42.000000   2800004.00000\n",
       "25%    78704.000000     87.000000   2801830.00000\n",
       "50%    78738.000000     93.000000  10014353.00000\n",
       "75%    78750.000000     97.000000  10530244.00000\n",
       "max    78759.000000    100.000000  11292287.00000"
      ]
     },
     "execution_count": 4,
     "metadata": {},
     "output_type": "execute_result"
    }
   ],
   "source": [
    "data.describe()"
   ]
  },
  {
   "cell_type": "markdown",
   "metadata": {},
   "source": [
    "ZIP Code and facility ID metrics are not useful, but those for the score are. The average sanitary score in Austin is 91.51: these guys take health quite seriously!\n",
    "\n",
    "We can also plot a histogram of these variables as:"
   ]
  },
  {
   "cell_type": "code",
   "execution_count": 5,
   "metadata": {
    "collapsed": false
   },
   "outputs": [
    {
     "data": {
      "text/plain": [
       "array([[<matplotlib.axes._subplots.AxesSubplot object at 0x7f11e573c550>,\n",
       "        <matplotlib.axes._subplots.AxesSubplot object at 0x7f11e396b950>],\n",
       "       [<matplotlib.axes._subplots.AxesSubplot object at 0x7f11e38f2750>,\n",
       "        <matplotlib.axes._subplots.AxesSubplot object at 0x7f11e38bff50>]], dtype=object)"
      ]
     },
     "execution_count": 5,
     "metadata": {},
     "output_type": "execute_result"
    },
    {
     "data": {
      "image/png": "[encoded data removed]",
      "text/plain": [
       "<matplotlib.figure.Figure at 0x7f11e3271790>"
      ]
     },
     "metadata": {},
     "output_type": "display_data"
    }
   ],
   "source": [
    "data.hist()"
   ]
  },
  {
   "cell_type": "markdown",
   "metadata": {},
   "source": [
    "So most restaurants in the city are of good sanitary quality.\n",
    "\n",
    "OK, enough playing around: let's address the questions in the exercise."
   ]
  },
  {
   "cell_type": "markdown",
   "metadata": {},
   "source": [
    "## Question 58\n",
    "### Are there significant differences in sanitation scores between different parts of the city?"
   ]
  },
  {
   "cell_type": "markdown",
   "metadata": {},
   "source": [
    "An easy way of splitting the data in different city parts is by ZIP code. Let's take the set of all ZIP codes in the date, and the list of scores per ZIP:"
   ]
  },
  {
   "cell_type": "code",
   "execution_count": 6,
   "metadata": {
    "collapsed": false
   },
   "outputs": [],
   "source": [
    "zips = sorted(list(set(data['Zip Code'])))\n",
    "zipscores = {zipnumber : data[data[\"Zip Code\"] == zipnumber][\"Score\"] for zipnumber in zips}"
   ]
  },
  {
   "cell_type": "markdown",
   "metadata": {},
   "source": [
    "Now let's create a bar plot of the average scores per ZIP using *seaborn*:"
   ]
  },
  {
   "cell_type": "code",
   "execution_count": 7,
   "metadata": {
    "collapsed": false
   },
   "outputs": [
    {
     "data": {
      "image/png": "[encoded data removed]",
      "text/plain": [
       "<matplotlib.figure.Figure at 0x7f11e3469d10>"
      ]
     },
     "metadata": {},
     "output_type": "display_data"
    }
   ],
   "source": [
    "means = [np.mean(zipscores[zip]) for zip in  zips]\n",
    "sns.barplot(x=zips, y=means)\n",
    "plt.xlabel(\"ZIP\", fontsize=30)\n",
    "plt.ylabel(\"Mean score\", fontsize=30)\n",
    "plt.tick_params(axis='both', which='major', labelsize=12)\n",
    "plt.xticks(rotation='vertical')\n",
    "plt.show()"
   ]
  },
  {
   "cell_type": "markdown",
   "metadata": {},
   "source": [
    "There are noticeable differences in average scores. But, are these relevant under some significancy test? We need to test that as well. To do so we will first compute all the cross differences in mean scores :"
   ]
  },
  {
   "cell_type": "code",
   "execution_count": 8,
   "metadata": {
    "collapsed": true
   },
   "outputs": [],
   "source": [
    "diffs = [[np.mean(zipscores[zip1]) - np.mean(zipscores[zip2]) for zip1 in zips] for zip2 in zips]"
   ]
  },
  {
   "cell_type": "markdown",
   "metadata": {},
   "source": [
    "Now let's run a t-test for significancy at the 0.01 level (very significant) for each list of scores between every possible pair of ZIPs, and note down those differences that are not really significant:"
   ]
  },
  {
   "cell_type": "code",
   "execution_count": 9,
   "metadata": {
    "collapsed": true
   },
   "outputs": [],
   "source": [
    "significancy = 0.01\n",
    "mask = [[stats.ttest_ind(zipscores[zip1],zipscores[zip2])[1] > significancy for zip1 in zips] for zip2 in zips]"
   ]
  },
  {
   "cell_type": "markdown",
   "metadata": {},
   "source": [
    "Now we will plot a heatmap of the average differences in scores between ZIPs, but only for those differences that are significant in the t-test above. To do so we will use a *seaborn* heatmap plot with the relevancy mask computed above:"
   ]
  },
  {
   "cell_type": "code",
   "execution_count": 10,
   "metadata": {
    "collapsed": false
   },
   "outputs": [
    {
     "name": "stderr",
     "output_type": "stream",
     "text": [
      "/home/alvaro/anaconda/lib/python2.7/site-packages/matplotlib/collections.py:590: FutureWarning: elementwise comparison failed; returning scalar instead, but in the future will perform elementwise comparison\n",
      "  if self._edgecolors == str('face'):\n"
     ]
    },
    {
     "data": {
      "image/png": "[encoded data removed]",
      "text/plain": [
       "<matplotlib.figure.Figure at 0x7f11e32f4610>"
      ]
     },
     "metadata": {},
     "output_type": "display_data"
    }
   ],
   "source": [
    "sns.heatmap(np.array(diffs), mask = np.array(mask), xticklabels = zips, yticklabels = zips)\n",
    "plt.ylabel(\"Reference ZIP\", fontsize=35)\n",
    "plt.xlabel(\"Compared ZIP\", fontsize=35)\n",
    "plt.title(\"Significant (Reference - Compared) scores\", fontsize=35)\n",
    "plt.tick_params(axis='both', which='major', labelsize=11)"
   ]
  },
  {
   "cell_type": "markdown",
   "metadata": {},
   "source": [
    "Well that is interesting! Some areas such as ZIP 78612 have significantly better sanitary levels than the rest of the places in Austin, so you might want to check that for your dinner!\n",
    "\n",
    "All in all we can safely say that there are significant differences in scores between ZIPs."
   ]
  },
  {
   "cell_type": "markdown",
   "metadata": {
    "collapsed": true
   },
   "source": [
    "## Question 59 \n",
    "### Are there significant differences between general scores and scores of the last inspection, when it was a followup after an inspection of score 50-59?"
   ]
  },
  {
   "cell_type": "markdown",
   "metadata": {},
   "source": [
    "This question again reduces to a perform a significancy test, this time between the series of general scores and the series of scores after an inspection of score 50-59. Since we will need to work with the dates in the data but these are in string format, let's first add a new column to the dataframe with the processed date:"
   ]
  },
  {
   "cell_type": "code",
   "execution_count": 11,
   "metadata": {
    "collapsed": true
   },
   "outputs": [],
   "source": [
    "dates = [time.strptime(row[\"Inspection Date\"], \"%m/%d/%Y\") for index, row in data.iterrows()]\n",
    "data['Processed Date'] = pandas.Series(dates)"
   ]
  },
  {
   "cell_type": "markdown",
   "metadata": {},
   "source": [
    "Now that we have the dates we can take the last inspection for each restaurant. We do this by ordering by date dropping all but the last register for each Address:"
   ]
  },
  {
   "cell_type": "code",
   "execution_count": 12,
   "metadata": {
    "collapsed": true
   },
   "outputs": [],
   "source": [
    "lastinspections = data.copy().sort_values(by='Processed Date').drop_duplicates(subset=\"Address\", keep=\"last\")"
   ]
  },
  {
   "cell_type": "markdown",
   "metadata": {},
   "source": [
    "Now we can find the inspections after a bad score by looking at the field \"Process Description\":"
   ]
  },
  {
   "cell_type": "code",
   "execution_count": 13,
   "metadata": {
    "collapsed": true
   },
   "outputs": [],
   "source": [
    "badinspections = lastinspections[lastinspections[\"Process Description\"] == '1st Follow Up to Routine of 50 - 69']"
   ]
  },
  {
   "cell_type": "markdown",
   "metadata": {},
   "source": [
    "Now we get the series of general scores and those for the bad inspections, and run the t-test for significancy:"
   ]
  },
  {
   "cell_type": "code",
   "execution_count": 14,
   "metadata": {
    "collapsed": false
   },
   "outputs": [
    {
     "name": "stdout",
     "output_type": "stream",
     "text": [
      "General scores vs inspected =  Ttest_indResult(statistic=6.7067973615025309, pvalue=2.0377095892782499e-11)\n"
     ]
    }
   ],
   "source": [
    "generalscores = data['Score']\n",
    "inspectionscores = badinspections['Score']\n",
    "print \"General scores vs inspected = \", stats.ttest_ind(generalscores, inspectionscores)"
   ]
  },
  {
   "cell_type": "markdown",
   "metadata": {},
   "source": [
    "The p-value is extremely small, so there is a significant difference. We can actually visualize this through a *matplotlib* boxplot:"
   ]
  },
  {
   "cell_type": "code",
   "execution_count": 15,
   "metadata": {
    "collapsed": false
   },
   "outputs": [
    {
     "data": {
      "image/png": "[encoded data removed]",
      "text/plain": [
       "<matplotlib.figure.Figure at 0x7f11e329b6d0>"
      ]
     },
     "metadata": {},
     "output_type": "display_data"
    }
   ],
   "source": [
    "plt.boxplot([generalscores, inspectionscores], labels=['General scores', 'Scores after inspections'])\n",
    "plt.show()"
   ]
  },
  {
   "cell_type": "markdown",
   "metadata": {},
   "source": [
    "So I guess some guys just don't learn their lesson?"
   ]
  },
  {
   "cell_type": "markdown",
   "metadata": {},
   "source": [
    "## Question 60\n",
    "### Has there been a significant difference in the sanitation trend along time?"
   ]
  },
  {
   "cell_type": "markdown",
   "metadata": {},
   "source": [
    "Working with time data is always difficult, but since our dataset spans several years of inspections, we can take a simple approach by breaking the data down by years and testing for significancy of scores between years. To do so, let's first create a new column in the dataframe with just the year, to aid the following steps:"
   ]
  },
  {
   "cell_type": "code",
   "execution_count": 16,
   "metadata": {
    "collapsed": false
   },
   "outputs": [],
   "source": [
    "years = [date.tm_year for date in data[\"Processed Date\"]]\n",
    "data[\"Year\"] = pandas.Series(years)"
   ]
  },
  {
   "cell_type": "markdown",
   "metadata": {},
   "source": [
    "We will now perform a trellis of the dataset, which essentially means generating several versions of the same plot, each with a subset of interest of our data. This can be done with *seaborn*, indicating the variable to use for the subset generation, in this case the year. We will also specify that the plots to generate will be distribution plots of the scores:"
   ]
  },
  {
   "cell_type": "code",
   "execution_count": 17,
   "metadata": {
    "collapsed": false
   },
   "outputs": [
    {
     "data": {
      "text/plain": [
       "<seaborn.axisgrid.FacetGrid at 0x7f11dc5f32d0>"
      ]
     },
     "execution_count": 17,
     "metadata": {},
     "output_type": "execute_result"
    },
    {
     "data": {
      "image/png": "[encoded data removed]",
      "text/plain": [
       "<matplotlib.figure.Figure at 0x7f11dc5de2d0>"
      ]
     },
     "metadata": {},
     "output_type": "display_data"
    }
   ],
   "source": [
    "uniqueyears = list(data[\"Year\"].drop_duplicates().sort_values())\n",
    "g = sns.FacetGrid(data, col=\"Year\", col_order=uniqueyears)\n",
    "g.map(sns.distplot, \"Score\")"
   ]
  },
  {
   "cell_type": "markdown",
   "metadata": {},
   "source": [
    "So, the general shape of the score distribution remains almost the same every year, except for some minor variations. We can take a look at the overall mean values by just generating a barplot:"
   ]
  },
  {
   "cell_type": "code",
   "execution_count": 18,
   "metadata": {
    "collapsed": false
   },
   "outputs": [
    {
     "data": {
      "text/plain": [
       "[92.047053836371347,\n",
       " 91.587282847023104,\n",
       " 91.539397010387631,\n",
       " 91.292590027700825]"
      ]
     },
     "execution_count": 18,
     "metadata": {},
     "output_type": "execute_result"
    },
    {
     "data": {
      "image/png": "[encoded data removed]",
      "text/plain": [
       "<matplotlib.figure.Figure at 0x7f11dc250e50>"
      ]
     },
     "metadata": {},
     "output_type": "display_data"
    }
   ],
   "source": [
    "scoreyears = [np.mean(data[data[\"Year\"] == year][\"Score\"]) for year in uniqueyears]\n",
    "sns.barplot(x=uniqueyears, y=scoreyears)\n",
    "scoreyears"
   ]
  },
  {
   "cell_type": "markdown",
   "metadata": {},
   "source": [
    "There doesn't really seem to be any difference among years, but to make this 100% we will generate a heatmap of the differences masked by a significancy test as we did before for the ZIPs data:"
   ]
  },
  {
   "cell_type": "code",
   "execution_count": 19,
   "metadata": {
    "collapsed": false
   },
   "outputs": [
    {
     "data": {
      "text/plain": [
       "<matplotlib.text.Text at 0x7f11dc165d90>"
      ]
     },
     "execution_count": 19,
     "metadata": {},
     "output_type": "execute_result"
    },
    {
     "data": {
      "image/png": "[encoded data removed]",
      "text/plain": [
       "<matplotlib.figure.Figure at 0x7f11dd7d4b10>"
      ]
     },
     "metadata": {},
     "output_type": "display_data"
    }
   ],
   "source": [
    "diffs = [[np.mean(data[data[\"Year\"] == year1][\"Score\"]) - np.mean(data[data[\"Year\"] == year1][\"Score\"]) \n",
    "          for year1 in uniqueyears] for year2 in uniqueyears]\n",
    "mask = [[stats.ttest_ind(data[data[\"Year\"] == year1][\"Score\"],data[data[\"Year\"] == year2][\"Score\"])[1] > significancy \n",
    "          for year1 in uniqueyears] for year2 in uniqueyears]\n",
    "sns.heatmap(np.array(diffs), mask = np.array(mask), xticklabels = uniqueyears, yticklabels = uniqueyears)\n",
    "plt.ylabel(\"Reference year\", fontsize=35)\n",
    "plt.xlabel(\"Compared year\", fontsize=35)\n",
    "plt.title(\"Significant (Reference - Compared) scores\", fontsize=35)"
   ]
  },
  {
   "cell_type": "markdown",
   "metadata": {},
   "source": [
    "So, the scores in the first year are better than those in the years to follow with sufficient statistical confidence. However the actual difference in score values is very small, and furthermore this decreasing trend does not continue in the following years with sufficient significancy. So my verdict is that there is not really a trend in here."
   ]
  },
  {
   "cell_type": "markdown",
   "metadata": {},
   "source": [
    "## Question 61\n",
    "### If we were to open a new restaurant in the intersection of West Martin Luther King Jr Boulevard and Lavaca Street, what sanitary score should we expect there, based on the scores of the 3 nearest restaurants?"
   ]
  },
  {
   "cell_type": "markdown",
   "metadata": {},
   "source": [
    "Let us first note down the names of the streets:"
   ]
  },
  {
   "cell_type": "code",
   "execution_count": 20,
   "metadata": {
    "collapsed": false
   },
   "outputs": [],
   "source": [
    "street1 = \"W MARTIN LUTHER KING JR BLVD\".upper()\n",
    "street2 = \"LAVACA ST\".upper()"
   ]
  },
  {
   "cell_type": "markdown",
   "metadata": {},
   "source": [
    "Now, geodata is included in the dataset in the form of latitude and longitude measurements. The problem is, this is written down in string form and as part of the address field, for instance:"
   ]
  },
  {
   "cell_type": "code",
   "execution_count": 21,
   "metadata": {
    "collapsed": false
   },
   "outputs": [
    {
     "data": {
      "text/plain": [
       "'303 W 15TH ST\\nAUSTIN, TX 78701\\n(30.277693, -97.742469)'"
      ]
     },
     "execution_count": 21,
     "metadata": {},
     "output_type": "execute_result"
    }
   ],
   "source": [
    "data[\"Address\"][0]"
   ]
  },
  {
   "cell_type": "markdown",
   "metadata": {},
   "source": [
    "So we will need to parse this string for every row in our dataframe and extract the longitude and latitude values. To make further reference to these fields easier we will add these two values as new columns:"
   ]
  },
  {
   "cell_type": "code",
   "execution_count": 22,
   "metadata": {
    "collapsed": false
   },
   "outputs": [
    {
     "data": {
      "text/html": [
       "<div>\n",
       "<table border=\"1\" class=\"dataframe\">\n",
       "  <thead>\n",
       "    <tr style=\"text-align: right;\">\n",
       "      <th></th>\n",
       "      <th>Latitude</th>\n",
       "      <th>Longitude</th>\n",
       "    </tr>\n",
       "  </thead>\n",
       "  <tbody>\n",
       "    <tr>\n",
       "      <th>0</th>\n",
       "      <td>30.277693</td>\n",
       "      <td>-97.742469</td>\n",
       "    </tr>\n",
       "    <tr>\n",
       "      <th>1</th>\n",
       "      <td>30.277693</td>\n",
       "      <td>-97.742469</td>\n",
       "    </tr>\n",
       "    <tr>\n",
       "      <th>2</th>\n",
       "      <td>30.277693</td>\n",
       "      <td>-97.742469</td>\n",
       "    </tr>\n",
       "    <tr>\n",
       "      <th>3</th>\n",
       "      <td>30.277693</td>\n",
       "      <td>-97.742469</td>\n",
       "    </tr>\n",
       "    <tr>\n",
       "      <th>4</th>\n",
       "      <td>30.277693</td>\n",
       "      <td>-97.742469</td>\n",
       "    </tr>\n",
       "  </tbody>\n",
       "</table>\n",
       "</div>"
      ],
      "text/plain": [
       "    Latitude  Longitude\n",
       "0  30.277693 -97.742469\n",
       "1  30.277693 -97.742469\n",
       "2  30.277693 -97.742469\n",
       "3  30.277693 -97.742469\n",
       "4  30.277693 -97.742469"
      ]
     },
     "execution_count": 22,
     "metadata": {},
     "output_type": "execute_result"
    }
   ],
   "source": [
    "coords = [reg[1]['Address'].split('\\n')[2].replace('(','').replace(')','').split(',') for reg in data.iterrows()]\n",
    "# Transform to floats (if possible)\n",
    "coords = [[float(x) for x in coord if x != ''] for coord in coords]\n",
    "# Split in longitudes and latitudes\n",
    "lats = [entry[0] if len(entry) > 0 else None for entry in coords]\n",
    "longs = [entry[1] if len(entry) > 0 else None for entry in coords]\n",
    "# Add back to dataframe\n",
    "data['Latitude'] = pandas.Series(lats)\n",
    "data['Longitude'] = pandas.Series(longs)\n",
    "# See result\n",
    "data[['Latitude', 'Longitude']].head()"
   ]
  },
  {
   "cell_type": "markdown",
   "metadata": {},
   "source": [
    "Looks good! Now let's find the restaurants in those streets, so we can have an idea of where the actual streets are located:"
   ]
  },
  {
   "cell_type": "code",
   "execution_count": 23,
   "metadata": {
    "collapsed": false
   },
   "outputs": [],
   "source": [
    "# Get restaurants in those streets\n",
    "stregs = data[[street1 in addr or street2 in addr for addr in data[\"Address\"]]]\n",
    "# Get locations of such restaurants\n",
    "stlocs = stregs[[\"Longitude\", \"Latitude\"]].drop_duplicates()"
   ]
  },
  {
   "cell_type": "markdown",
   "metadata": {},
   "source": [
    "A good way to visualize geospatial data is to use the *folium* package, which allows to plot points on top of a OpenStreetMap map. We will plot a map of Austin with the restaurants in the streets of interest highlighted:\n",
    "\n",
    "**NOTE**: folium maps are dynamic plots, and will probably not show up if you are visualizing an static version of this notebook, for instance from the github viewer. To see them you will need to run the notebook again locally."
   ]
  },
  {
   "cell_type": "code",
   "execution_count": 24,
   "metadata": {
    "collapsed": false
   },
   "outputs": [
    {
     "data": {
      "text/html": [
       "<iframe srcdoc=\"<!DOCTYPE html>\n",
       "<head>\n",
       "  <meta http-equiv=&quot;content-type&quot; content=&quot;text/html; charset=UTF-8&quot; />\n",
       "   <link rel=&quot;stylesheet&quot; href=&quot;https://rawgit.com/andrewgiessel/leafletstuff/master/leaflet.css&quot; />\n",
       "   <script src=&quot;https://cdnjs.cloudflare.com/ajax/libs/leaflet/0.7.3/leaflet.js&quot;></script>\n",
       "\n",
       "   <script src=&quot;https://ajax.googleapis.com/ajax/libs/jquery/1.11.1/jquery.min.js&quot;></script>\n",
       "\n",
       "   <link rel=&quot;stylesheet&quot; href=&quot;https://maxcdn.bootstrapcdn.com/bootstrap/3.2.0/css/bootstrap.min.css&quot;>\n",
       "   <link rel=&quot;stylesheet&quot; href=&quot;https://maxcdn.bootstrapcdn.com/bootstrap/3.2.0/css/bootstrap-theme.min.css&quot;>\n",
       "   <script src=&quot;https://maxcdn.bootstrapcdn.com/bootstrap/3.2.0/js/bootstrap.min.js&quot;></script>\n",
       "\n",
       "   <link href=&quot;https://maxcdn.bootstrapcdn.com/font-awesome/4.1.0/css/font-awesome.min.css&quot; rel=&quot;stylesheet&quot;>\n",
       "\n",
       "   <link rel=&quot;stylesheet&quot; href=&quot;https://rawgit.com/lvoogdt/Leaflet.awesome-markers/2.0/develop/dist/leaflet.awesome-markers.css&quot;>\n",
       "   <script src=&quot;https://rawgithub.com/lvoogdt/Leaflet.awesome-markers/2.0/develop/dist/leaflet.awesome-markers.js&quot;></script>\n",
       "\n",
       "\n",
       "   <link rel=&quot;stylesheet&quot; href=&quot;https://cdnjs.cloudflare.com/ajax/libs/leaflet.markercluster/0.4.0/MarkerCluster.Default.css&quot;>\n",
       "   <link rel=&quot;stylesheet&quot; href=&quot;https://cdnjs.cloudflare.com/ajax/libs/leaflet.markercluster/0.4.0/MarkerCluster.css&quot;>\n",
       "   <script src=&quot;https://cdnjs.cloudflare.com/ajax/libs/leaflet.markercluster/0.4.0/leaflet.markercluster-src.js&quot;></script>\n",
       "   <script src=&quot;https://cdnjs.cloudflare.com/ajax/libs/leaflet.markercluster/0.4.0/leaflet.markercluster.js&quot;></script>\n",
       "\n",
       "   <link rel=&quot;stylesheet&quot; href=&quot;https://birdage.github.io/Leaflet.awesome-markers/dist/leaflet.awesome.rotate.css&quot;>\n",
       "\n",
       "   \n",
       "   \n",
       "   \n",
       "   \n",
       "\n",
       "   <style>\n",
       "\n",
       "      html, body {\n",
       "        width: 100%;\n",
       "        height: 100%;\n",
       "        margin: 0;\n",
       "        padding: 0;\n",
       "      }\n",
       "\n",
       "      #map {\n",
       "        position:absolute;\n",
       "        top:0;\n",
       "        bottom:0;\n",
       "        right:0;\n",
       "        left:0;\n",
       "      }\n",
       "\n",
       "   </style>\n",
       "</head>\n",
       "\n",
       "<body>\n",
       "\n",
       "   <div class=&quot;folium-map&quot; id=&quot;folium_2e5db6f2fb9745c5b0b9f247abfb81c3&quot; style=&quot;width: 100%; height: 100%&quot;></div>\n",
       "\n",
       "   <script>\n",
       "\n",
       "      \n",
       "\n",
       "      var base_tile = L.tileLayer('https://{s}.tile.openstreetmap.org/{z}/{x}/{y}.png', {\n",
       "          maxZoom: 18,\n",
       "          minZoom: 1,\n",
       "          attribution: 'Map data (c) <a href=&quot;http://openstreetmap.org&quot;>OpenStreetMap</a> contributors'\n",
       "      });\n",
       "\n",
       "      var baseLayer = {\n",
       "        &quot;Base Layer&quot;: base_tile\n",
       "      };\n",
       "\n",
       "      /*\n",
       "      addition of the wms layers\n",
       "      */\n",
       "\n",
       "      \n",
       "\n",
       "      /*\n",
       "      addition of the tile layers\n",
       "      */\n",
       "      \n",
       "\n",
       "      /*\n",
       "      list of layers to be added\n",
       "      */\n",
       "      var layer_list = {\n",
       "      \n",
       "      };\n",
       "\n",
       "      /*\n",
       "      Bounding box.\n",
       "      */\n",
       "      var southWest = L.latLng(-90, -180),\n",
       "          northEast = L.latLng(90, 180),\n",
       "          bounds = L.latLngBounds(southWest, northEast);\n",
       "\n",
       "      /*\n",
       "      Creates the map and adds the selected layers\n",
       "      */\n",
       "      var map = L.map('folium_2e5db6f2fb9745c5b0b9f247abfb81c3', {\n",
       "                                       center:[30.301534, -97.75962],\n",
       "                                       zoom: 13,\n",
       "                                       maxBounds: bounds,\n",
       "                                       layers: [base_tile]\n",
       "                                     });\n",
       "\n",
       "      L.control.layers(baseLayer, layer_list).addTo(map);\n",
       "\n",
       "      /*\n",
       "      addition of the image layers\n",
       "      */\n",
       "      \n",
       "      \n",
       "      //cluster group\n",
       "      var clusteredmarkers = L.markerClusterGroup();\n",
       "      //section for adding clustered markers\n",
       "      \n",
       "      //add the clustered markers to the group anyway\n",
       "      map.addLayer(clusteredmarkers);\n",
       "\n",
       "      \n",
       "\n",
       "      \n",
       "      var circle_1 = L.circle([30.281756, -97.742074], 10, {\n",
       "                            color: 'black',\n",
       "                            fillColor: 'blue',\n",
       "                            fillOpacity: 0.6\n",
       "                            });\n",
       "      \n",
       "      map.addLayer(circle_1)\n",
       "      \n",
       "      var circle_2 = L.circle([30.266169, -97.746157], 10, {\n",
       "                            color: 'black',\n",
       "                            fillColor: 'blue',\n",
       "                            fillOpacity: 0.6\n",
       "                            });\n",
       "      \n",
       "      map.addLayer(circle_2)\n",
       "      \n",
       "      var circle_3 = L.circle([30.278851, -97.741437], 10, {\n",
       "                            color: 'black',\n",
       "                            fillColor: 'blue',\n",
       "                            fillOpacity: 0.6\n",
       "                            });\n",
       "      \n",
       "      map.addLayer(circle_3)\n",
       "      \n",
       "      var circle_4 = L.circle([30.282064, -97.743149], 10, {\n",
       "                            color: 'black',\n",
       "                            fillColor: 'blue',\n",
       "                            fillOpacity: 0.6\n",
       "                            });\n",
       "      \n",
       "      map.addLayer(circle_4)\n",
       "      \n",
       "      var circle_5 = L.circle([30.265733, -97.746323], 10, {\n",
       "                            color: 'black',\n",
       "                            fillColor: 'blue',\n",
       "                            fillOpacity: 0.6\n",
       "                            });\n",
       "      \n",
       "      map.addLayer(circle_5)\n",
       "      \n",
       "      var circle_6 = L.circle([30.279629, -97.741143], 10, {\n",
       "                            color: 'black',\n",
       "                            fillColor: 'blue',\n",
       "                            fillOpacity: 0.6\n",
       "                            });\n",
       "      \n",
       "      map.addLayer(circle_6)\n",
       "      \n",
       "      var circle_7 = L.circle([30.279416, -97.741224], 10, {\n",
       "                            color: 'black',\n",
       "                            fillColor: 'blue',\n",
       "                            fillOpacity: 0.6\n",
       "                            });\n",
       "      \n",
       "      map.addLayer(circle_7)\n",
       "      \n",
       "      var circle_8 = L.circle([30.264182, -97.746913], 10, {\n",
       "                            color: 'black',\n",
       "                            fillColor: 'blue',\n",
       "                            fillOpacity: 0.6\n",
       "                            });\n",
       "      \n",
       "      map.addLayer(circle_8)\n",
       "      \n",
       "      var circle_9 = L.circle([30.276809, -97.742217], 10, {\n",
       "                            color: 'black',\n",
       "                            fillColor: 'blue',\n",
       "                            fillOpacity: 0.6\n",
       "                            });\n",
       "      \n",
       "      map.addLayer(circle_9)\n",
       "      \n",
       "      var circle_10 = L.circle([30.282292, -97.743937], 10, {\n",
       "                            color: 'black',\n",
       "                            fillColor: 'blue',\n",
       "                            fillOpacity: 0.6\n",
       "                            });\n",
       "      \n",
       "      map.addLayer(circle_10)\n",
       "      \n",
       "      var circle_11 = L.circle([30.270196, -97.744672], 10, {\n",
       "                            color: 'black',\n",
       "                            fillColor: 'blue',\n",
       "                            fillOpacity: 0.6\n",
       "                            });\n",
       "      \n",
       "      map.addLayer(circle_11)\n",
       "      \n",
       "      var circle_12 = L.circle([30.26729, -97.74574], 10, {\n",
       "                            color: 'black',\n",
       "                            fillColor: 'blue',\n",
       "                            fillOpacity: 0.6\n",
       "                            });\n",
       "      \n",
       "      map.addLayer(circle_12)\n",
       "      \n",
       "      var circle_13 = L.circle([30.279915, -97.741034], 10, {\n",
       "                            color: 'black',\n",
       "                            fillColor: 'blue',\n",
       "                            fillOpacity: 0.6\n",
       "                            });\n",
       "      \n",
       "      map.addLayer(circle_13)\n",
       "      \n",
       "      var circle_14 = L.circle([30.282048, -97.743093], 10, {\n",
       "                            color: 'black',\n",
       "                            fillColor: 'blue',\n",
       "                            fillOpacity: 0.6\n",
       "                            });\n",
       "      \n",
       "      map.addLayer(circle_14)\n",
       "      \n",
       "      var circle_15 = L.circle([30.274954, -97.742896], 10, {\n",
       "                            color: 'black',\n",
       "                            fillColor: 'blue',\n",
       "                            fillOpacity: 0.6\n",
       "                            });\n",
       "      \n",
       "      map.addLayer(circle_15)\n",
       "      \n",
       "      var circle_16 = L.circle([30.28182, -97.742325], 10, {\n",
       "                            color: 'black',\n",
       "                            fillColor: 'blue',\n",
       "                            fillOpacity: 0.6\n",
       "                            });\n",
       "      \n",
       "      map.addLayer(circle_16)\n",
       "      \n",
       "      var circle_17 = L.circle([30.282243, -97.743776], 10, {\n",
       "                            color: 'black',\n",
       "                            fillColor: 'blue',\n",
       "                            fillOpacity: 0.6\n",
       "                            });\n",
       "      \n",
       "      map.addLayer(circle_17)\n",
       "      \n",
       "      var circle_18 = L.circle([30.278923, -97.74141], 10, {\n",
       "                            color: 'black',\n",
       "                            fillColor: 'blue',\n",
       "                            fillOpacity: 0.6\n",
       "                            });\n",
       "      \n",
       "      map.addLayer(circle_18)\n",
       "      \n",
       "      var circle_19 = L.circle([30.282172, -97.74354], 10, {\n",
       "                            color: 'black',\n",
       "                            fillColor: 'blue',\n",
       "                            fillOpacity: 0.6\n",
       "                            });\n",
       "      \n",
       "      map.addLayer(circle_19)\n",
       "      \n",
       "      var circle_20 = L.circle([30.281464, -97.741028], 10, {\n",
       "                            color: 'black',\n",
       "                            fillColor: 'blue',\n",
       "                            fillOpacity: 0.6\n",
       "                            });\n",
       "      \n",
       "      map.addLayer(circle_20)\n",
       "      \n",
       "      var circle_21 = L.circle([30.276711, -97.742253], 10, {\n",
       "                            color: 'black',\n",
       "                            fillColor: 'blue',\n",
       "                            fillOpacity: 0.6\n",
       "                            });\n",
       "      \n",
       "      map.addLayer(circle_21)\n",
       "      \n",
       "      var circle_22 = L.circle([30.278867, -97.741431], 10, {\n",
       "                            color: 'black',\n",
       "                            fillColor: 'blue',\n",
       "                            fillOpacity: 0.6\n",
       "                            });\n",
       "      \n",
       "      map.addLayer(circle_22)\n",
       "      \n",
       "      var circle_23 = L.circle([30.265668, -97.746347], 10, {\n",
       "                            color: 'black',\n",
       "                            fillColor: 'blue',\n",
       "                            fillOpacity: 0.6\n",
       "                            });\n",
       "      \n",
       "      map.addLayer(circle_23)\n",
       "      \n",
       "\n",
       "      \n",
       "\n",
       "      \n",
       "\n",
       "      var popup = L.popup();\n",
       "\n",
       "function latLngPop(e) {\n",
       "    popup.setLatLng(e.latlng)\n",
       "         .setContent(&quot;Latitude: &quot; + e.latlng.lat.toFixed(4) +\n",
       "                     &quot;<br>Longitude: &quot; + e.latlng.lng.toFixed(4))\n",
       "         .openOn(map);\n",
       "}\n",
       "\n",
       "map.on('click', latLngPop);\n",
       "\n",
       "      \n",
       "\n",
       "\n",
       "\n",
       "   </script>\n",
       "\n",
       "</body>\" style=\"width: 100%; height: 500px; border: none\"></iframe>"
      ],
      "text/plain": [
       "<folium.folium.Map at 0x7f11dd6fe3d0>"
      ]
     },
     "execution_count": 24,
     "metadata": {},
     "output_type": "execute_result"
    }
   ],
   "source": [
    "# Create a map centered on the approximate coordinates of Austin\n",
    "austinlat = 30.301534\n",
    "austinlon = -97.759620\n",
    "restmap = folium.Map(location=[austinlat, austinlon], zoom_start=13)\n",
    "# Add markers for the identified restaurants\n",
    "for index, row in stlocs.iterrows():\n",
    "    restmap.circle_marker([row[\"Latitude\"], row[\"Longitude\"]], fill_color = 'blue', radius = 10)\n",
    "# Allow clicking to get coordinates\n",
    "restmap.lat_lng_popover()\n",
    "# Draw map\n",
    "restmap"
   ]
  },
  {
   "cell_type": "markdown",
   "metadata": {},
   "source": [
    "There they are! We have created the map in a way that we can interactively click on a point and get its lat-lon coordinates. By doing so we can pick the coordinates of the crossing of these streets, namely:"
   ]
  },
  {
   "cell_type": "code",
   "execution_count": 25,
   "metadata": {
    "collapsed": true
   },
   "outputs": [],
   "source": [
    "latcross = 30.2813\n",
    "loncross = -97.7405"
   ]
  },
  {
   "cell_type": "markdown",
   "metadata": {},
   "source": [
    "To check we have done so properly, let's plot again the map with the location of our new fancy restaurant at a higher zoom level:"
   ]
  },
  {
   "cell_type": "code",
   "execution_count": 26,
   "metadata": {
    "collapsed": false
   },
   "outputs": [
    {
     "data": {
      "text/html": [
       "<iframe srcdoc=\"<!DOCTYPE html>\n",
       "<head>\n",
       "  <meta http-equiv=&quot;content-type&quot; content=&quot;text/html; charset=UTF-8&quot; />\n",
       "   <link rel=&quot;stylesheet&quot; href=&quot;https://rawgit.com/andrewgiessel/leafletstuff/master/leaflet.css&quot; />\n",
       "   <script src=&quot;https://cdnjs.cloudflare.com/ajax/libs/leaflet/0.7.3/leaflet.js&quot;></script>\n",
       "\n",
       "   <script src=&quot;https://ajax.googleapis.com/ajax/libs/jquery/1.11.1/jquery.min.js&quot;></script>\n",
       "\n",
       "   <link rel=&quot;stylesheet&quot; href=&quot;https://maxcdn.bootstrapcdn.com/bootstrap/3.2.0/css/bootstrap.min.css&quot;>\n",
       "   <link rel=&quot;stylesheet&quot; href=&quot;https://maxcdn.bootstrapcdn.com/bootstrap/3.2.0/css/bootstrap-theme.min.css&quot;>\n",
       "   <script src=&quot;https://maxcdn.bootstrapcdn.com/bootstrap/3.2.0/js/bootstrap.min.js&quot;></script>\n",
       "\n",
       "   <link href=&quot;https://maxcdn.bootstrapcdn.com/font-awesome/4.1.0/css/font-awesome.min.css&quot; rel=&quot;stylesheet&quot;>\n",
       "\n",
       "   <link rel=&quot;stylesheet&quot; href=&quot;https://rawgit.com/lvoogdt/Leaflet.awesome-markers/2.0/develop/dist/leaflet.awesome-markers.css&quot;>\n",
       "   <script src=&quot;https://rawgithub.com/lvoogdt/Leaflet.awesome-markers/2.0/develop/dist/leaflet.awesome-markers.js&quot;></script>\n",
       "\n",
       "\n",
       "   <link rel=&quot;stylesheet&quot; href=&quot;https://cdnjs.cloudflare.com/ajax/libs/leaflet.markercluster/0.4.0/MarkerCluster.Default.css&quot;>\n",
       "   <link rel=&quot;stylesheet&quot; href=&quot;https://cdnjs.cloudflare.com/ajax/libs/leaflet.markercluster/0.4.0/MarkerCluster.css&quot;>\n",
       "   <script src=&quot;https://cdnjs.cloudflare.com/ajax/libs/leaflet.markercluster/0.4.0/leaflet.markercluster-src.js&quot;></script>\n",
       "   <script src=&quot;https://cdnjs.cloudflare.com/ajax/libs/leaflet.markercluster/0.4.0/leaflet.markercluster.js&quot;></script>\n",
       "\n",
       "   <link rel=&quot;stylesheet&quot; href=&quot;https://birdage.github.io/Leaflet.awesome-markers/dist/leaflet.awesome.rotate.css&quot;>\n",
       "\n",
       "   \n",
       "   \n",
       "   \n",
       "   \n",
       "\n",
       "   <style>\n",
       "\n",
       "      html, body {\n",
       "        width: 100%;\n",
       "        height: 100%;\n",
       "        margin: 0;\n",
       "        padding: 0;\n",
       "      }\n",
       "\n",
       "      #map {\n",
       "        position:absolute;\n",
       "        top:0;\n",
       "        bottom:0;\n",
       "        right:0;\n",
       "        left:0;\n",
       "      }\n",
       "\n",
       "   </style>\n",
       "</head>\n",
       "\n",
       "<body>\n",
       "\n",
       "   <div class=&quot;folium-map&quot; id=&quot;folium_b1fb0fac3b264c79a67aed0d82166f81&quot; style=&quot;width: 100%; height: 100%&quot;></div>\n",
       "\n",
       "   <script>\n",
       "\n",
       "      \n",
       "\n",
       "      var base_tile = L.tileLayer('https://{s}.tile.openstreetmap.org/{z}/{x}/{y}.png', {\n",
       "          maxZoom: 18,\n",
       "          minZoom: 1,\n",
       "          attribution: 'Map data (c) <a href=&quot;http://openstreetmap.org&quot;>OpenStreetMap</a> contributors'\n",
       "      });\n",
       "\n",
       "      var baseLayer = {\n",
       "        &quot;Base Layer&quot;: base_tile\n",
       "      };\n",
       "\n",
       "      /*\n",
       "      addition of the wms layers\n",
       "      */\n",
       "\n",
       "      \n",
       "\n",
       "      /*\n",
       "      addition of the tile layers\n",
       "      */\n",
       "      \n",
       "\n",
       "      /*\n",
       "      list of layers to be added\n",
       "      */\n",
       "      var layer_list = {\n",
       "      \n",
       "      };\n",
       "\n",
       "      /*\n",
       "      Bounding box.\n",
       "      */\n",
       "      var southWest = L.latLng(-90, -180),\n",
       "          northEast = L.latLng(90, 180),\n",
       "          bounds = L.latLngBounds(southWest, northEast);\n",
       "\n",
       "      /*\n",
       "      Creates the map and adds the selected layers\n",
       "      */\n",
       "      var map = L.map('folium_b1fb0fac3b264c79a67aed0d82166f81', {\n",
       "                                       center:[30.2813, -97.7405],\n",
       "                                       zoom: 17,\n",
       "                                       maxBounds: bounds,\n",
       "                                       layers: [base_tile]\n",
       "                                     });\n",
       "\n",
       "      L.control.layers(baseLayer, layer_list).addTo(map);\n",
       "\n",
       "      /*\n",
       "      addition of the image layers\n",
       "      */\n",
       "      \n",
       "      \n",
       "      //cluster group\n",
       "      var clusteredmarkers = L.markerClusterGroup();\n",
       "      //section for adding clustered markers\n",
       "      \n",
       "      //add the clustered markers to the group anyway\n",
       "      map.addLayer(clusteredmarkers);\n",
       "\n",
       "      \n",
       "\n",
       "      \n",
       "      var circle_1 = L.circle([30.281756, -97.742074], 10, {\n",
       "                            color: 'black',\n",
       "                            fillColor: 'blue',\n",
       "                            fillOpacity: 0.6\n",
       "                            });\n",
       "      \n",
       "      map.addLayer(circle_1)\n",
       "      \n",
       "      var circle_2 = L.circle([30.266169, -97.746157], 10, {\n",
       "                            color: 'black',\n",
       "                            fillColor: 'blue',\n",
       "                            fillOpacity: 0.6\n",
       "                            });\n",
       "      \n",
       "      map.addLayer(circle_2)\n",
       "      \n",
       "      var circle_3 = L.circle([30.278851, -97.741437], 10, {\n",
       "                            color: 'black',\n",
       "                            fillColor: 'blue',\n",
       "                            fillOpacity: 0.6\n",
       "                            });\n",
       "      \n",
       "      map.addLayer(circle_3)\n",
       "      \n",
       "      var circle_4 = L.circle([30.282064, -97.743149], 10, {\n",
       "                            color: 'black',\n",
       "                            fillColor: 'blue',\n",
       "                            fillOpacity: 0.6\n",
       "                            });\n",
       "      \n",
       "      map.addLayer(circle_4)\n",
       "      \n",
       "      var circle_5 = L.circle([30.265733, -97.746323], 10, {\n",
       "                            color: 'black',\n",
       "                            fillColor: 'blue',\n",
       "                            fillOpacity: 0.6\n",
       "                            });\n",
       "      \n",
       "      map.addLayer(circle_5)\n",
       "      \n",
       "      var circle_6 = L.circle([30.279629, -97.741143], 10, {\n",
       "                            color: 'black',\n",
       "                            fillColor: 'blue',\n",
       "                            fillOpacity: 0.6\n",
       "                            });\n",
       "      \n",
       "      map.addLayer(circle_6)\n",
       "      \n",
       "      var circle_7 = L.circle([30.279416, -97.741224], 10, {\n",
       "                            color: 'black',\n",
       "                            fillColor: 'blue',\n",
       "                            fillOpacity: 0.6\n",
       "                            });\n",
       "      \n",
       "      map.addLayer(circle_7)\n",
       "      \n",
       "      var circle_8 = L.circle([30.264182, -97.746913], 10, {\n",
       "                            color: 'black',\n",
       "                            fillColor: 'blue',\n",
       "                            fillOpacity: 0.6\n",
       "                            });\n",
       "      \n",
       "      map.addLayer(circle_8)\n",
       "      \n",
       "      var circle_9 = L.circle([30.276809, -97.742217], 10, {\n",
       "                            color: 'black',\n",
       "                            fillColor: 'blue',\n",
       "                            fillOpacity: 0.6\n",
       "                            });\n",
       "      \n",
       "      map.addLayer(circle_9)\n",
       "      \n",
       "      var circle_10 = L.circle([30.282292, -97.743937], 10, {\n",
       "                            color: 'black',\n",
       "                            fillColor: 'blue',\n",
       "                            fillOpacity: 0.6\n",
       "                            });\n",
       "      \n",
       "      map.addLayer(circle_10)\n",
       "      \n",
       "      var circle_11 = L.circle([30.270196, -97.744672], 10, {\n",
       "                            color: 'black',\n",
       "                            fillColor: 'blue',\n",
       "                            fillOpacity: 0.6\n",
       "                            });\n",
       "      \n",
       "      map.addLayer(circle_11)\n",
       "      \n",
       "      var circle_12 = L.circle([30.26729, -97.74574], 10, {\n",
       "                            color: 'black',\n",
       "                            fillColor: 'blue',\n",
       "                            fillOpacity: 0.6\n",
       "                            });\n",
       "      \n",
       "      map.addLayer(circle_12)\n",
       "      \n",
       "      var circle_13 = L.circle([30.279915, -97.741034], 10, {\n",
       "                            color: 'black',\n",
       "                            fillColor: 'blue',\n",
       "                            fillOpacity: 0.6\n",
       "                            });\n",
       "      \n",
       "      map.addLayer(circle_13)\n",
       "      \n",
       "      var circle_14 = L.circle([30.282048, -97.743093], 10, {\n",
       "                            color: 'black',\n",
       "                            fillColor: 'blue',\n",
       "                            fillOpacity: 0.6\n",
       "                            });\n",
       "      \n",
       "      map.addLayer(circle_14)\n",
       "      \n",
       "      var circle_15 = L.circle([30.274954, -97.742896], 10, {\n",
       "                            color: 'black',\n",
       "                            fillColor: 'blue',\n",
       "                            fillOpacity: 0.6\n",
       "                            });\n",
       "      \n",
       "      map.addLayer(circle_15)\n",
       "      \n",
       "      var circle_16 = L.circle([30.28182, -97.742325], 10, {\n",
       "                            color: 'black',\n",
       "                            fillColor: 'blue',\n",
       "                            fillOpacity: 0.6\n",
       "                            });\n",
       "      \n",
       "      map.addLayer(circle_16)\n",
       "      \n",
       "      var circle_17 = L.circle([30.282243, -97.743776], 10, {\n",
       "                            color: 'black',\n",
       "                            fillColor: 'blue',\n",
       "                            fillOpacity: 0.6\n",
       "                            });\n",
       "      \n",
       "      map.addLayer(circle_17)\n",
       "      \n",
       "      var circle_18 = L.circle([30.278923, -97.74141], 10, {\n",
       "                            color: 'black',\n",
       "                            fillColor: 'blue',\n",
       "                            fillOpacity: 0.6\n",
       "                            });\n",
       "      \n",
       "      map.addLayer(circle_18)\n",
       "      \n",
       "      var circle_19 = L.circle([30.282172, -97.74354], 10, {\n",
       "                            color: 'black',\n",
       "                            fillColor: 'blue',\n",
       "                            fillOpacity: 0.6\n",
       "                            });\n",
       "      \n",
       "      map.addLayer(circle_19)\n",
       "      \n",
       "      var circle_20 = L.circle([30.281464, -97.741028], 10, {\n",
       "                            color: 'black',\n",
       "                            fillColor: 'blue',\n",
       "                            fillOpacity: 0.6\n",
       "                            });\n",
       "      \n",
       "      map.addLayer(circle_20)\n",
       "      \n",
       "      var circle_21 = L.circle([30.276711, -97.742253], 10, {\n",
       "                            color: 'black',\n",
       "                            fillColor: 'blue',\n",
       "                            fillOpacity: 0.6\n",
       "                            });\n",
       "      \n",
       "      map.addLayer(circle_21)\n",
       "      \n",
       "      var circle_22 = L.circle([30.278867, -97.741431], 10, {\n",
       "                            color: 'black',\n",
       "                            fillColor: 'blue',\n",
       "                            fillOpacity: 0.6\n",
       "                            });\n",
       "      \n",
       "      map.addLayer(circle_22)\n",
       "      \n",
       "      var circle_23 = L.circle([30.265668, -97.746347], 10, {\n",
       "                            color: 'black',\n",
       "                            fillColor: 'blue',\n",
       "                            fillOpacity: 0.6\n",
       "                            });\n",
       "      \n",
       "      map.addLayer(circle_23)\n",
       "      \n",
       "      var circle_24 = L.circle([30.2813, -97.7405], 15, {\n",
       "                            color: 'black',\n",
       "                            fillColor: 'red',\n",
       "                            fillOpacity: 0.6\n",
       "                            });\n",
       "      \n",
       "      map.addLayer(circle_24)\n",
       "      \n",
       "\n",
       "      \n",
       "\n",
       "      \n",
       "\n",
       "      \n",
       "\n",
       "      \n",
       "\n",
       "\n",
       "\n",
       "   </script>\n",
       "\n",
       "</body>\" style=\"width: 100%; height: 500px; border: none\"></iframe>"
      ],
      "text/plain": [
       "<folium.folium.Map at 0x7f11e35ab290>"
      ]
     },
     "execution_count": 26,
     "metadata": {},
     "output_type": "execute_result"
    }
   ],
   "source": [
    "# Create a map centered on our new restaurant at Austin\n",
    "restmap = folium.Map(location=[latcross, loncross], zoom_start=17)\n",
    "# Add markers for the identified restaurants\n",
    "for index, row in stlocs.iterrows():\n",
    "    restmap.circle_marker([row[\"Latitude\"], row[\"Longitude\"]], fill_color = 'blue', radius = 10)\n",
    "# Add market for proposed location of new restaurant\n",
    "restmap.circle_marker([latcross, loncross], fill_color = 'red', radius = 15)\n",
    "# Draw map\n",
    "restmap"
   ]
  },
  {
   "cell_type": "markdown",
   "metadata": {},
   "source": [
    "Our new restaurant is located right on the AT&T Executive Education and Conference Center. This is the place where the Texata finals took place! So we have found a self-referential pun in the data. Nice! :)\n",
    "\n",
    "But we still have a problem to solve. We need to find the 3 nearest restaurants to these points. Computing distances of points expressed in lon-lat coordinates can be tricky for distant points, due to the curvature of the Earth and whatnot. Since we are only working with coordinates within a city we can safely approximate real distance by a simple euclidean distance. Let's compute just that for every unique restaurant position, and save the result as a new column in an auxiliary dataframe:"
   ]
  },
  {
   "cell_type": "code",
   "execution_count": 27,
   "metadata": {
    "collapsed": true
   },
   "outputs": [],
   "source": [
    "datadist = data.copy().drop_duplicates(subset=['Longitude','Latitude'])\n",
    "distances = []\n",
    "for index, row in datadist.iterrows():\n",
    "    distance = math.sqrt(math.pow(row['Longitude'] - loncross, 2) + math.pow(row['Latitude'] - latcross, 2))\n",
    "    distances.append(distance)\n",
    "datadist['Distance'] = pandas.Series(distances, index=datadist.index)"
   ]
  },
  {
   "cell_type": "markdown",
   "metadata": {},
   "source": [
    "Now that we have computed the distances we need to find the nearest competitors to our planned new restaurant. This is easy to do with a simple sorting:"
   ]
  },
  {
   "cell_type": "code",
   "execution_count": 28,
   "metadata": {
    "collapsed": false
   },
   "outputs": [
    {
     "data": {
      "text/html": [
       "<div>\n",
       "<table border=\"1\" class=\"dataframe\">\n",
       "  <thead>\n",
       "    <tr style=\"text-align: right;\">\n",
       "      <th></th>\n",
       "      <th>Restaurant Name</th>\n",
       "      <th>Zip Code</th>\n",
       "      <th>Inspection Date</th>\n",
       "      <th>Score</th>\n",
       "      <th>Address</th>\n",
       "      <th>Facility ID</th>\n",
       "      <th>Process Description</th>\n",
       "      <th>Processed Date</th>\n",
       "      <th>Year</th>\n",
       "      <th>Latitude</th>\n",
       "      <th>Longitude</th>\n",
       "      <th>Distance</th>\n",
       "    </tr>\n",
       "  </thead>\n",
       "  <tbody>\n",
       "    <tr>\n",
       "      <th>18957</th>\n",
       "      <td>TCBY</td>\n",
       "      <td>78701</td>\n",
       "      <td>11/30/2012</td>\n",
       "      <td>94</td>\n",
       "      <td>303 W MARTIN LUTHER KING JR BLVD\\nAUSTIN, TX 7...</td>\n",
       "      <td>2801749</td>\n",
       "      <td>Routine Inspection</td>\n",
       "      <td>(2012, 11, 30, 0, 0, 0, 4, 335, -1)</td>\n",
       "      <td>2012</td>\n",
       "      <td>30.281464</td>\n",
       "      <td>-97.741028</td>\n",
       "      <td>0.000553</td>\n",
       "    </tr>\n",
       "    <tr>\n",
       "      <th>20231</th>\n",
       "      <td>University Ave Church</td>\n",
       "      <td>78705</td>\n",
       "      <td>11/20/2012</td>\n",
       "      <td>93</td>\n",
       "      <td>1903 UNIVERSITY AVE\\nAUSTIN, TX 78705\\n(30.281...</td>\n",
       "      <td>2800271</td>\n",
       "      <td>Routine Inspection</td>\n",
       "      <td>(2012, 11, 20, 0, 0, 0, 1, 325, -1)</td>\n",
       "      <td>2012</td>\n",
       "      <td>30.281268</td>\n",
       "      <td>-97.739790</td>\n",
       "      <td>0.000711</td>\n",
       "    </tr>\n",
       "    <tr>\n",
       "      <th>14292</th>\n",
       "      <td>Pizza Hut</td>\n",
       "      <td>78701</td>\n",
       "      <td>07/24/2014</td>\n",
       "      <td>100</td>\n",
       "      <td>1811 GUADALUPE ST\\nAUSTIN, TX 78701\\n(30.28102...</td>\n",
       "      <td>2802469</td>\n",
       "      <td>Routine Inspection</td>\n",
       "      <td>(2014, 7, 24, 0, 0, 0, 3, 205, -1)</td>\n",
       "      <td>2014</td>\n",
       "      <td>30.281020</td>\n",
       "      <td>-97.741811</td>\n",
       "      <td>0.001341</td>\n",
       "    </tr>\n",
       "  </tbody>\n",
       "</table>\n",
       "</div>"
      ],
      "text/plain": [
       "             Restaurant Name  Zip Code Inspection Date  Score  \\\n",
       "18957                   TCBY     78701      11/30/2012     94   \n",
       "20231  University Ave Church     78705      11/20/2012     93   \n",
       "14292              Pizza Hut     78701      07/24/2014    100   \n",
       "\n",
       "                                                 Address  Facility ID  \\\n",
       "18957  303 W MARTIN LUTHER KING JR BLVD\\nAUSTIN, TX 7...      2801749   \n",
       "20231  1903 UNIVERSITY AVE\\nAUSTIN, TX 78705\\n(30.281...      2800271   \n",
       "14292  1811 GUADALUPE ST\\nAUSTIN, TX 78701\\n(30.28102...      2802469   \n",
       "\n",
       "      Process Description                       Processed Date  Year  \\\n",
       "18957  Routine Inspection  (2012, 11, 30, 0, 0, 0, 4, 335, -1)  2012   \n",
       "20231  Routine Inspection  (2012, 11, 20, 0, 0, 0, 1, 325, -1)  2012   \n",
       "14292  Routine Inspection   (2014, 7, 24, 0, 0, 0, 3, 205, -1)  2014   \n",
       "\n",
       "        Latitude  Longitude  Distance  \n",
       "18957  30.281464 -97.741028  0.000553  \n",
       "20231  30.281268 -97.739790  0.000711  \n",
       "14292  30.281020 -97.741811  0.001341  "
      ]
     },
     "execution_count": 28,
     "metadata": {},
     "output_type": "execute_result"
    }
   ],
   "source": [
    "# Sort candidates by distances\n",
    "sortedcands = datadist.sort_values(by='Distance')\n",
    "\n",
    "# 3 nearest restaurants\n",
    "nearest = sortedcands[0:3]\n",
    "nearest"
   ]
  },
  {
   "cell_type": "markdown",
   "metadata": {},
   "source": [
    "That Pizza Hut certainly takes health issues very seriously! Let's make a new map pinpointing where these restaurants are:"
   ]
  },
  {
   "cell_type": "code",
   "execution_count": 29,
   "metadata": {
    "collapsed": false
   },
   "outputs": [
    {
     "data": {
      "text/html": [
       "<iframe srcdoc=\"<!DOCTYPE html>\n",
       "<head>\n",
       "  <meta http-equiv=&quot;content-type&quot; content=&quot;text/html; charset=UTF-8&quot; />\n",
       "   <link rel=&quot;stylesheet&quot; href=&quot;https://rawgit.com/andrewgiessel/leafletstuff/master/leaflet.css&quot; />\n",
       "   <script src=&quot;https://cdnjs.cloudflare.com/ajax/libs/leaflet/0.7.3/leaflet.js&quot;></script>\n",
       "\n",
       "   <script src=&quot;https://ajax.googleapis.com/ajax/libs/jquery/1.11.1/jquery.min.js&quot;></script>\n",
       "\n",
       "   <link rel=&quot;stylesheet&quot; href=&quot;https://maxcdn.bootstrapcdn.com/bootstrap/3.2.0/css/bootstrap.min.css&quot;>\n",
       "   <link rel=&quot;stylesheet&quot; href=&quot;https://maxcdn.bootstrapcdn.com/bootstrap/3.2.0/css/bootstrap-theme.min.css&quot;>\n",
       "   <script src=&quot;https://maxcdn.bootstrapcdn.com/bootstrap/3.2.0/js/bootstrap.min.js&quot;></script>\n",
       "\n",
       "   <link href=&quot;https://maxcdn.bootstrapcdn.com/font-awesome/4.1.0/css/font-awesome.min.css&quot; rel=&quot;stylesheet&quot;>\n",
       "\n",
       "   <link rel=&quot;stylesheet&quot; href=&quot;https://rawgit.com/lvoogdt/Leaflet.awesome-markers/2.0/develop/dist/leaflet.awesome-markers.css&quot;>\n",
       "   <script src=&quot;https://rawgithub.com/lvoogdt/Leaflet.awesome-markers/2.0/develop/dist/leaflet.awesome-markers.js&quot;></script>\n",
       "\n",
       "\n",
       "   <link rel=&quot;stylesheet&quot; href=&quot;https://cdnjs.cloudflare.com/ajax/libs/leaflet.markercluster/0.4.0/MarkerCluster.Default.css&quot;>\n",
       "   <link rel=&quot;stylesheet&quot; href=&quot;https://cdnjs.cloudflare.com/ajax/libs/leaflet.markercluster/0.4.0/MarkerCluster.css&quot;>\n",
       "   <script src=&quot;https://cdnjs.cloudflare.com/ajax/libs/leaflet.markercluster/0.4.0/leaflet.markercluster-src.js&quot;></script>\n",
       "   <script src=&quot;https://cdnjs.cloudflare.com/ajax/libs/leaflet.markercluster/0.4.0/leaflet.markercluster.js&quot;></script>\n",
       "\n",
       "   <link rel=&quot;stylesheet&quot; href=&quot;https://birdage.github.io/Leaflet.awesome-markers/dist/leaflet.awesome.rotate.css&quot;>\n",
       "\n",
       "   \n",
       "   \n",
       "   \n",
       "   \n",
       "\n",
       "   <style>\n",
       "\n",
       "      html, body {\n",
       "        width: 100%;\n",
       "        height: 100%;\n",
       "        margin: 0;\n",
       "        padding: 0;\n",
       "      }\n",
       "\n",
       "      #map {\n",
       "        position:absolute;\n",
       "        top:0;\n",
       "        bottom:0;\n",
       "        right:0;\n",
       "        left:0;\n",
       "      }\n",
       "\n",
       "   </style>\n",
       "</head>\n",
       "\n",
       "<body>\n",
       "\n",
       "   <div class=&quot;folium-map&quot; id=&quot;folium_dca3fb623bcd4417b9aa5af647ab7480&quot; style=&quot;width: 100%; height: 100%&quot;></div>\n",
       "\n",
       "   <script>\n",
       "\n",
       "      \n",
       "\n",
       "      var base_tile = L.tileLayer('https://{s}.tile.openstreetmap.org/{z}/{x}/{y}.png', {\n",
       "          maxZoom: 18,\n",
       "          minZoom: 1,\n",
       "          attribution: 'Map data (c) <a href=&quot;http://openstreetmap.org&quot;>OpenStreetMap</a> contributors'\n",
       "      });\n",
       "\n",
       "      var baseLayer = {\n",
       "        &quot;Base Layer&quot;: base_tile\n",
       "      };\n",
       "\n",
       "      /*\n",
       "      addition of the wms layers\n",
       "      */\n",
       "\n",
       "      \n",
       "\n",
       "      /*\n",
       "      addition of the tile layers\n",
       "      */\n",
       "      \n",
       "\n",
       "      /*\n",
       "      list of layers to be added\n",
       "      */\n",
       "      var layer_list = {\n",
       "      \n",
       "      };\n",
       "\n",
       "      /*\n",
       "      Bounding box.\n",
       "      */\n",
       "      var southWest = L.latLng(-90, -180),\n",
       "          northEast = L.latLng(90, 180),\n",
       "          bounds = L.latLngBounds(southWest, northEast);\n",
       "\n",
       "      /*\n",
       "      Creates the map and adds the selected layers\n",
       "      */\n",
       "      var map = L.map('folium_dca3fb623bcd4417b9aa5af647ab7480', {\n",
       "                                       center:[30.2813, -97.7405],\n",
       "                                       zoom: 17,\n",
       "                                       maxBounds: bounds,\n",
       "                                       layers: [base_tile]\n",
       "                                     });\n",
       "\n",
       "      L.control.layers(baseLayer, layer_list).addTo(map);\n",
       "\n",
       "      /*\n",
       "      addition of the image layers\n",
       "      */\n",
       "      \n",
       "      \n",
       "      //cluster group\n",
       "      var clusteredmarkers = L.markerClusterGroup();\n",
       "      //section for adding clustered markers\n",
       "      \n",
       "      //add the clustered markers to the group anyway\n",
       "      map.addLayer(clusteredmarkers);\n",
       "\n",
       "      \n",
       "\n",
       "      \n",
       "      var circle_1 = L.circle([30.281464, -97.741028], 10, {\n",
       "                            color: 'black',\n",
       "                            fillColor: 'green',\n",
       "                            fillOpacity: 0.6\n",
       "                            });\n",
       "      \n",
       "      map.addLayer(circle_1)\n",
       "      \n",
       "      var circle_2 = L.circle([30.281268, -97.73979], 10, {\n",
       "                            color: 'black',\n",
       "                            fillColor: 'green',\n",
       "                            fillOpacity: 0.6\n",
       "                            });\n",
       "      \n",
       "      map.addLayer(circle_2)\n",
       "      \n",
       "      var circle_3 = L.circle([30.28102, -97.741811], 10, {\n",
       "                            color: 'black',\n",
       "                            fillColor: 'green',\n",
       "                            fillOpacity: 0.6\n",
       "                            });\n",
       "      \n",
       "      map.addLayer(circle_3)\n",
       "      \n",
       "      var circle_4 = L.circle([30.2813, -97.7405], 15, {\n",
       "                            color: 'black',\n",
       "                            fillColor: 'red',\n",
       "                            fillOpacity: 0.6\n",
       "                            });\n",
       "      \n",
       "      map.addLayer(circle_4)\n",
       "      \n",
       "\n",
       "      \n",
       "\n",
       "      \n",
       "\n",
       "      \n",
       "\n",
       "      \n",
       "\n",
       "\n",
       "\n",
       "   </script>\n",
       "\n",
       "</body>\" style=\"width: 100%; height: 500px; border: none\"></iframe>"
      ],
      "text/plain": [
       "<folium.folium.Map at 0x7f11dc5af490>"
      ]
     },
     "execution_count": 29,
     "metadata": {},
     "output_type": "execute_result"
    }
   ],
   "source": [
    "# Create a map centered on our new restaurant at Austin\n",
    "restmap = folium.Map(location=[latcross, loncross], zoom_start=17)\n",
    "# Add markers for nearest restaurants in Austin\n",
    "for index, row in nearest.iterrows():\n",
    "    restmap.circle_marker([row[\"Latitude\"], row[\"Longitude\"]], fill_color = 'green', radius = 10)\n",
    "# Add market for proposed location of new restaurant\n",
    "restmap.circle_marker([latcross, loncross], fill_color = 'red', radius = 15)\n",
    "# Draw map\n",
    "restmap"
   ]
  },
  {
   "cell_type": "markdown",
   "metadata": {},
   "source": [
    "One of those is on the EAST side of Martin Luther King Jr Boulevard. So, had we used only the data of the restaurants in the West Martin Luther King Jr Boulevard and Lavaca Street we would have missed it!\n",
    "\n",
    "Now let's get the list of all the scores of those three restaurants, and compute an average to estimate the most probable score for our new place!"
   ]
  },
  {
   "cell_type": "code",
   "execution_count": 30,
   "metadata": {
    "collapsed": false
   },
   "outputs": [
    {
     "name": "stdout",
     "output_type": "stream",
     "text": [
      "('Predicted score for new restaurant = ', 94.166666666666671)\n"
     ]
    }
   ],
   "source": [
    "# Get all available data of the nearest restaurants (look for reviews with address in the nearest set)\n",
    "nearestdata = data[data[\"Address\"].isin(nearest[\"Address\"])]\n",
    "\n",
    "# Get the average of those scores\n",
    "expectedscore = np.mean(nearestdata[\"Score\"])\n",
    "\n",
    "print(\"Predicted score for new restaurant = \", expectedscore)"
   ]
  },
  {
   "cell_type": "markdown",
   "metadata": {
    "collapsed": true
   },
   "source": [
    "And that's it! Our hypothetical restaurant will do pretty well in the sanitary inspection. So if I ever run out of business in the data industry maybe I should try opening some *tapas* pub? :)"
   ]
  },
  {
   "cell_type": "markdown",
   "metadata": {},
   "source": [
    "## Closing"
   ]
  },
  {
   "cell_type": "markdown",
   "metadata": {},
   "source": [
    "I can truly say that just by preparing, competing, and then revising this first round exercise I have learned a lot! This was the first time I made a Jupyter notebook and used most of the packages you can see here. Had I tried to do all of these with my old C and Java knowledge I would have never made it. Knowing and leveraging the appropriate tools is a great help, both for this competition and for the real world. I'm already using these tools for actual projects at my job!"
   ]
  }
 ],
 "metadata": {
  "kernelspec": {
   "display_name": "Python 2",
   "language": "python",
   "name": "python2"
  },
  "language_info": {
   "codemirror_mode": {
    "name": "ipython",
    "version": 2
   },
   "file_extension": ".py",
   "mimetype": "text/x-python",
   "name": "python",
   "nbconvert_exporter": "python",
   "pygments_lexer": "ipython2",
   "version": "2.7.10"
  }
 },
 "nbformat": 4,
 "nbformat_minor": 0
}
